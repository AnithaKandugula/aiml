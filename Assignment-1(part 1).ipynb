{
  "nbformat": 4,
  "nbformat_minor": 0,
  "metadata": {
    "colab": {
      "provenance": [],
      "authorship_tag": "ABX9TyMz8EkKlpSBjffAy3l76p5m",
      "include_colab_link": true
    },
    "kernelspec": {
      "name": "python3",
      "display_name": "Python 3"
    },
    "language_info": {
      "name": "python"
    }
  },
  "cells": [
    {
      "cell_type": "markdown",
      "metadata": {
        "id": "view-in-github",
        "colab_type": "text"
      },
      "source": [
        "<a href=\"https://colab.research.google.com/github/AnithaKandugula/aiml/blob/main/assignment-1(part%201).ipynb\" target=\"_parent\"><img src=\"https://colab.research.google.com/assets/colab-badge.svg\" alt=\"Open In Colab\"/></a>"
      ]
    },
    {
      "cell_type": "code",
      "execution_count": 1,
      "metadata": {
        "id": "YMkGYzK3EGY5",
        "colab": {
          "base_uri": "https://localhost:8080/"
        },
        "outputId": "fa840199-d06a-4f4b-c272-70d0e197bd54"
      },
      "outputs": [
        {
          "output_type": "stream",
          "name": "stdout",
          "text": [
            "1.1\n",
            "[3 5 7 8]\n"
          ]
        }
      ],
      "source": [
        "#implementing list using numpy\n",
        "import numpy as np\n",
        "print(1.1)\n",
        "list=np.array([3, 5, 7, 8])\n",
        "print(list)"
      ]
    },
    {
      "cell_type": "code",
      "source": [
        "#implementing array using numpy\n",
        "import numpy as np\n",
        "print(1.2)\n",
        "array=np.array([3, 0, 3, 2, 1, 6, 2, 8])\n",
        "print(\"Array: \",array)"
      ],
      "metadata": {
        "colab": {
          "base_uri": "https://localhost:8080/"
        },
        "id": "zakbBpuhK9vr",
        "outputId": "ac76f094-ec9b-4ffd-c7f3-658355bfd33b"
      },
      "execution_count": 2,
      "outputs": [
        {
          "output_type": "stream",
          "name": "stdout",
          "text": [
            "1.2\n",
            "Array:  [3 0 3 2 1 6 2 8]\n"
          ]
        }
      ]
    },
    {
      "cell_type": "code",
      "source": [
        "#implementing type() using numpy\n",
        "import numpy as np\n",
        "print(1.3)\n",
        "array_1D=np.array([1, 2, 3, 4, 5])\n",
        "print(\"1D Array Type: \",type(array_1D))"
      ],
      "metadata": {
        "colab": {
          "base_uri": "https://localhost:8080/"
        },
        "id": "joeW1vYRLD_c",
        "outputId": "353ce0b8-b56c-4410-e2d7-ba62f212543c"
      },
      "execution_count": 5,
      "outputs": [
        {
          "output_type": "stream",
          "name": "stdout",
          "text": [
            "1.3\n",
            "1D Array Type:  <class 'numpy.ndarray'>\n"
          ]
        }
      ]
    },
    {
      "cell_type": "code",
      "source": [
        "#from _future_ import division\n",
        "#Performing mathematical operations\n",
        "import numpy as np\n",
        "print(1.4)\n",
        "a=np.array([3, 8, 9, 8])\n",
        "b=np.array([1, 2, 3, 4])\n",
        "#Multiplication\n",
        "multiply=np.multiply(a, b)\n",
        "print(multiply)\n",
        "#Division\n",
        "division=np.divide(a, b)\n",
        "print(division)\n",
        "#poweroff\n",
        "power=np.power(a, b)\n",
        "print(power)"
      ],
      "metadata": {
        "colab": {
          "base_uri": "https://localhost:8080/"
        },
        "id": "8WfDq6TpLRVk",
        "outputId": "a7f35067-b9e0-4eca-fafc-6d183cded7cf"
      },
      "execution_count": 7,
      "outputs": [
        {
          "output_type": "stream",
          "name": "stdout",
          "text": [
            "1.4\n",
            "[ 3 16 27 32]\n",
            "[3. 4. 3. 2.]\n",
            "[   3   64  729 4096]\n"
          ]
        }
      ]
    },
    {
      "cell_type": "code",
      "source": [
        "#Addition of Two arrays\n",
        "import numpy as np\n",
        "print(1.5)\n",
        "arr1=np.array([1, 6, 2, 6])\n",
        "arr2=np.array([3, 5, 7, 8])\n",
        "addition=arr1+arr2\n",
        "print(addition)"
      ],
      "metadata": {
        "colab": {
          "base_uri": "https://localhost:8080/"
        },
        "id": "gY2KYlvYL7Rm",
        "outputId": "a6def06a-b285-4725-ff52-70f27b99b7f0"
      },
      "execution_count": 8,
      "outputs": [
        {
          "output_type": "stream",
          "name": "stdout",
          "text": [
            "1.5\n",
            "[ 4 11  9 14]\n"
          ]
        }
      ]
    },
    {
      "cell_type": "code",
      "source": [
        "#implement np.sin(), log(), np.exp(), log2()\n",
        "import numpy as np\n",
        "print(1.6)\n",
        "a = np.array([1,2,3])\n",
        "sin = np.sin(a)\n",
        "print(sin)\n",
        "log = np.log(a)\n",
        "print(log)\n",
        "exp = np.exp(a)\n",
        "print(exp)\n",
        "log2 = np.log2(a)\n",
        "print(log2)"
      ],
      "metadata": {
        "colab": {
          "base_uri": "https://localhost:8080/"
        },
        "id": "73WPfonpMAaM",
        "outputId": "b594992b-40ff-4e5d-e3cb-89de7649ad78"
      },
      "execution_count": 9,
      "outputs": [
        {
          "output_type": "stream",
          "name": "stdout",
          "text": [
            "1.6\n",
            "[0.84147098 0.90929743 0.14112001]\n",
            "[0.         0.69314718 1.09861229]\n",
            "[ 2.71828183  7.3890561  20.08553692]\n",
            "[0.        1.        1.5849625]\n"
          ]
        }
      ]
    }
  ]
}
