{
  "nbformat": 4,
  "nbformat_minor": 0,
  "metadata": {
    "colab": {
      "provenance": [],
      "authorship_tag": "ABX9TyNRFP8NNSetfoE+55mBIYNH",
      "include_colab_link": true
    },
    "kernelspec": {
      "name": "python3",
      "display_name": "Python 3"
    },
    "language_info": {
      "name": "python"
    }
  },
  "cells": [
    {
      "cell_type": "markdown",
      "metadata": {
        "id": "view-in-github",
        "colab_type": "text"
      },
      "source": [
        "<a href=\"https://colab.research.google.com/github/AnithaKandugula/aiml/blob/main/Lab%20Exam.ipynb\" target=\"_parent\"><img src=\"https://colab.research.google.com/assets/colab-badge.svg\" alt=\"Open In Colab\"/></a>"
      ]
    },
    {
      "cell_type": "markdown",
      "source": [
        "Prediction of Air Quality in Italian Cities\n",
        "1. Identify the top 5 reasons for air quality\n",
        "2. Identify the Day of week with most air quality issues\n",
        "3. Find the max and min air quality levels\n",
        "4. Identify the highest and lowest temperatures of air quality\n",
        "5. Identify the highest educational qualification of the employees.\n",
        "6. Apply either Classification Model or Clustering Model to evaluate the dataset"
      ],
      "metadata": {
        "id": "Z6NDt03z-gjQ"
      }
    },
    {
      "cell_type": "code",
      "source": [
        "import pandas as pd\n",
        "\n",
        "# Load the dataset\n",
        "file_path = 'Air_Quality_Italy.csv'  # Update if dataset is in a different location\n",
        "df = pd.read_csv(file_path)\n",
        "\n",
        "# 1. Identify the top 5 reasons for air quality issues\n",
        "# Since reasons aren't in the synthetic dataset, we assume AQI levels reflect poor air quality\n",
        "def top_5_reasons_for_air_quality():\n",
        "    df['Air_Quality_Status'] = pd.cut(df['AQI'],\n",
        "                                      bins=[0, 50, 100, 150, 200, 300],\n",
        "                                      labels=['Good', 'Moderate', 'Unhealthy for Sensitive Groups', 'Unhealthy', 'Very Unhealthy'])\n",
        "    reasons_count = df['Air_Quality_Status'].value_counts()\n",
        "    return reasons_count\n",
        "\n",
        "# 2. Identify the day of the week with the most air quality issues\n",
        "def day_with_most_issues():\n",
        "    issue_days = df[df['AQI'] > 100]  # Assuming AQI > 100 indicates issues\n",
        "    return issue_days['Day_of_Week'].value_counts()\n",
        "\n",
        "# 3. Find the max and min air quality levels\n",
        "def max_min_aqi():\n",
        "    return df['AQI'].max(), df['AQI'].min()\n",
        "\n",
        "# 4. Identify the highest and lowest temperatures associated with air quality\n",
        "def highest_lowest_temperatures():\n",
        "    max_temp = df.loc[df['AQI'].idxmax()]['Temperature']\n",
        "    min_temp = df.loc[df['AQI'].idxmin()]['Temperature']\n",
        "    return max_temp, min_temp\n",
        "\n",
        "# 5. Identify the highest educational qualification of the employees\n",
        "def highest_educational_qualification():\n",
        "    education_order = {'High School': 1, 'Bachelor\\'s': 2, 'Master\\'s': 3, 'PhD': 4}\n",
        "    highest_qualification = df['Educational_Qualification'].map(education_order).idxmax()\n",
        "    return df.loc[highest_qualification]['Educational_Qualification']\n",
        "\n",
        "# 6. Apply clustering (KMeans) to evaluate the dataset based on AQI and Temperature\n",
        "from sklearn.cluster import KMeans\n",
        "import matplotlib.pyplot as plt\n",
        "\n",
        "def apply_clustering():\n",
        "    kmeans = KMeans(n_clusters=3, random_state=42)\n",
        "    df['Cluster'] = kmeans.fit_predict(df[['AQI', 'Temperature']])\n",
        "\n",
        "    # Plot clusters\n",
        "    plt.figure(figsize=(8, 6))\n",
        "    for cluster in range(3):\n",
        "        clustered_data = df[df['Cluster'] == cluster]\n",
        "        plt.scatter(clustered_data['AQI'], clustered_data['Temperature'], label=f'Cluster {cluster}')\n",
        "    plt.xlabel('AQI')\n",
        "    plt.ylabel('Temperature')\n",
        "    plt.legend()\n",
        "    plt.title('Clustering of AQI and Temperature')\n",
        "    plt.show()\n",
        "\n",
        "# Execute functions\n",
        "print(\"Top 5 reasons for air quality issues:\\n\", top_5_reasons_for_air_quality())\n",
        "print(\"\\nDay with most air quality issues:\\n\", day_with_most_issues())\n",
        "max_aqi, min_aqi = max_min_aqi()\n",
        "print(f\"\\nMax AQI: {max_aqi}, Min AQI: {min_aqi}\")\n",
        "max_temp, min_temp = highest_lowest_temperatures()\n",
        "print(f\"\\nHighest Temperature: {max_temp}°C, Lowest Temperature: {min_temp}°C\")\n",
        "print(\"\\nHighest Educational Qualification:\", highest_educational_qualification())\n",
        "\n",
        "# Apply clustering and visualize\n",
        "apply_clustering()\n"
      ],
      "metadata": {
        "id": "veHlvVQD-hWQ"
      },
      "execution_count": null,
      "outputs": []
    }
  ]
}